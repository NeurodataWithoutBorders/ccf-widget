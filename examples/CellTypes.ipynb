{
 "cells": [
  {
   "cell_type": "markdown",
   "metadata": {},
   "source": [
    "This example is based on the Allen Institute [Cell Types documentation](https://alleninstitute.github.io/AllenSDK/cell_types.html) and [example Jupyter notebook](https://alleninstitute.github.io/AllenSDK/_static/examples/nb/cell_types.html)."
   ]
  },
  {
   "cell_type": "code",
   "execution_count": 1,
   "metadata": {},
   "outputs": [],
   "source": [
    "import numpy as np\n",
    "\n",
    "from ccfwidget import CCFWidget\n",
    "\n",
    "from allensdk.core.cell_types_cache import CellTypesCache"
   ]
  },
  {
   "cell_type": "code",
   "execution_count": 2,
   "metadata": {},
   "outputs": [
    {
     "name": "stderr",
     "output_type": "stream",
     "text": [
      "2020-06-24 23:29:32,147 allensdk.api.api.retrieve_file_over_http INFO     Downloading URL: http://api.brain-map.org/api/v2/well_known_file_download/491202878\n"
     ]
    }
   ],
   "source": [
    "# Instantiate the CellTypesCache instance.  The manifest_file argument\n",
    "# tells it where to store the manifest, which is a JSON file that tracks\n",
    "# file paths.  If you supply a relative path (like this), it will go\n",
    "# into your current working directory\n",
    "ctc = CellTypesCache(manifest_file='cell_types/manifest.json')\n",
    "\n",
    "# this saves the NWB file to 'cell_types/specimen_464212183/ephys.nwb'\n",
    "cell_specimen_id = 464212183\n",
    "data_set = ctc.get_ephys_data(cell_specimen_id)"
   ]
  },
  {
   "cell_type": "code",
   "execution_count": 8,
   "metadata": {},
   "outputs": [],
   "source": [
    "# download and open an SWC file\n",
    "cell_id = 480114344\n",
    "morphology = ctc.get_reconstruction(cell_id)\n",
    "# optional\n",
    "sparse_morphology = morphology.sparsify(3)\n",
    "\n",
    "# Example translation\n",
    "affine = [1,0,0, 0,1,0, 0,0,1, 8000, 1800, 9300]\n",
    "sparse_morphology.apply_affine(affine)"
   ]
  },
  {
   "cell_type": "code",
   "execution_count": 9,
   "metadata": {},
   "outputs": [
    {
     "data": {
      "application/vnd.jupyter.widget-view+json": {
       "model_id": "321671e09a16486c9f5d23676111f712",
       "version_major": 2,
       "version_minor": 0
      },
      "text/plain": [
       "CCFWidget(children=(VBox(children=(Viewer(background=(0.0, 0.0, 0.0), camera=array([[ 1.3441567e+03, -2.172384…"
      ]
     },
     "metadata": {},
     "output_type": "display_data"
    }
   ],
   "source": [
    "ccf = CCFWidget(tree='ipytree', swc_morphologies=[sparse_morphology], selected_acronyms=['VIS'])\n",
    "ccf"
   ]
  },
  {
   "cell_type": "code",
   "execution_count": 12,
   "metadata": {},
   "outputs": [
    {
     "data": {
      "text/plain": [
       "array([[ 3.2045190e+03,  3.7119155e+03,  1.3311934e+04],\n",
       "       [ 8.3530996e+03,  1.5394941e+03,  9.5729551e+03],\n",
       "       [ 3.3579409e-02, -8.4338361e-01,  5.3626162e-01]], dtype=float32)"
      ]
     },
     "execution_count": 12,
     "metadata": {},
     "output_type": "execute_result"
    }
   ],
   "source": [
    "ccf.itk_viewer.camera = np.array([[ 3.2045190e+03,  3.7119155e+03,  1.3311934e+04],\n",
    "       [ 8.3530996e+03,  1.5394941e+03,  9.5729551e+03],\n",
    "       [ 3.3579409e-02, -8.4338361e-01,  5.3626162e-01]], dtype=np.float32)\n",
    "ccf.itk_viewer.camera"
   ]
  },
  {
   "cell_type": "code",
   "execution_count": null,
   "metadata": {},
   "outputs": [],
   "source": []
  }
 ],
 "metadata": {
  "kernelspec": {
   "display_name": "Python 3",
   "language": "python",
   "name": "python3"
  },
  "language_info": {
   "codemirror_mode": {
    "name": "ipython",
    "version": 3
   },
   "file_extension": ".py",
   "mimetype": "text/x-python",
   "name": "python",
   "nbconvert_exporter": "python",
   "pygments_lexer": "ipython3",
   "version": "3.7.6"
  },
  "toc": {
   "base_numbering": 1,
   "nav_menu": {},
   "number_sections": false,
   "sideBar": false,
   "skip_h1_title": false,
   "title_cell": "Table of Contents",
   "title_sidebar": "Contents",
   "toc_cell": false,
   "toc_position": {},
   "toc_section_display": false,
   "toc_window_display": false
  }
 },
 "nbformat": 4,
 "nbformat_minor": 4
}
