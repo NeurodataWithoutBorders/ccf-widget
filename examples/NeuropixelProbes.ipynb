{
 "cells": [
  {
   "cell_type": "code",
   "execution_count": 17,
   "metadata": {},
   "outputs": [],
   "source": [
    "import numpy as np\n",
    "import pandas as pd\n",
    "\n",
    "from ccfwidget import CCFWidget"
   ]
  },
  {
   "cell_type": "code",
   "execution_count": 18,
   "metadata": {},
   "outputs": [
    {
     "data": {
      "text/html": [
       "<div>\n",
       "<style scoped>\n",
       "    .dataframe tbody tr th:only-of-type {\n",
       "        vertical-align: middle;\n",
       "    }\n",
       "\n",
       "    .dataframe tbody tr th {\n",
       "        vertical-align: top;\n",
       "    }\n",
       "\n",
       "    .dataframe thead th {\n",
       "        text-align: right;\n",
       "    }\n",
       "</style>\n",
       "<table border=\"1\" class=\"dataframe\">\n",
       "  <thead>\n",
       "    <tr style=\"text-align: right;\">\n",
       "      <th></th>\n",
       "      <th>id</th>\n",
       "      <th>ecephys_probe_id</th>\n",
       "      <th>local_index</th>\n",
       "      <th>probe_horizontal_position</th>\n",
       "      <th>probe_vertical_position</th>\n",
       "      <th>anterior_posterior_ccf_coordinate</th>\n",
       "      <th>dorsal_ventral_ccf_coordinate</th>\n",
       "      <th>left_right_ccf_coordinate</th>\n",
       "      <th>ecephys_structure_id</th>\n",
       "      <th>ecephys_structure_acronym</th>\n",
       "    </tr>\n",
       "  </thead>\n",
       "  <tbody>\n",
       "    <tr>\n",
       "      <th>0</th>\n",
       "      <td>849705558</td>\n",
       "      <td>792645504</td>\n",
       "      <td>1</td>\n",
       "      <td>11</td>\n",
       "      <td>20</td>\n",
       "      <td>8165</td>\n",
       "      <td>3314</td>\n",
       "      <td>6862</td>\n",
       "      <td>215.0</td>\n",
       "      <td>APN</td>\n",
       "    </tr>\n",
       "    <tr>\n",
       "      <th>1</th>\n",
       "      <td>849705560</td>\n",
       "      <td>792645504</td>\n",
       "      <td>2</td>\n",
       "      <td>59</td>\n",
       "      <td>40</td>\n",
       "      <td>8162</td>\n",
       "      <td>3307</td>\n",
       "      <td>6866</td>\n",
       "      <td>215.0</td>\n",
       "      <td>APN</td>\n",
       "    </tr>\n",
       "    <tr>\n",
       "      <th>2</th>\n",
       "      <td>849705562</td>\n",
       "      <td>792645504</td>\n",
       "      <td>3</td>\n",
       "      <td>27</td>\n",
       "      <td>40</td>\n",
       "      <td>8160</td>\n",
       "      <td>3301</td>\n",
       "      <td>6871</td>\n",
       "      <td>215.0</td>\n",
       "      <td>APN</td>\n",
       "    </tr>\n",
       "    <tr>\n",
       "      <th>3</th>\n",
       "      <td>849705564</td>\n",
       "      <td>792645504</td>\n",
       "      <td>4</td>\n",
       "      <td>43</td>\n",
       "      <td>60</td>\n",
       "      <td>8157</td>\n",
       "      <td>3295</td>\n",
       "      <td>6875</td>\n",
       "      <td>215.0</td>\n",
       "      <td>APN</td>\n",
       "    </tr>\n",
       "    <tr>\n",
       "      <th>4</th>\n",
       "      <td>849705566</td>\n",
       "      <td>792645504</td>\n",
       "      <td>5</td>\n",
       "      <td>11</td>\n",
       "      <td>60</td>\n",
       "      <td>8155</td>\n",
       "      <td>3288</td>\n",
       "      <td>6879</td>\n",
       "      <td>215.0</td>\n",
       "      <td>APN</td>\n",
       "    </tr>\n",
       "    <tr>\n",
       "      <th>...</th>\n",
       "      <td>...</td>\n",
       "      <td>...</td>\n",
       "      <td>...</td>\n",
       "      <td>...</td>\n",
       "      <td>...</td>\n",
       "      <td>...</td>\n",
       "      <td>...</td>\n",
       "      <td>...</td>\n",
       "      <td>...</td>\n",
       "      <td>...</td>\n",
       "    </tr>\n",
       "    <tr>\n",
       "      <th>123219</th>\n",
       "      <td>868937722</td>\n",
       "      <td>868929142</td>\n",
       "      <td>379</td>\n",
       "      <td>27</td>\n",
       "      <td>3800</td>\n",
       "      <td>7385</td>\n",
       "      <td>-135</td>\n",
       "      <td>9601</td>\n",
       "      <td>NaN</td>\n",
       "      <td>NaN</td>\n",
       "    </tr>\n",
       "    <tr>\n",
       "      <th>123220</th>\n",
       "      <td>868937726</td>\n",
       "      <td>868929142</td>\n",
       "      <td>380</td>\n",
       "      <td>43</td>\n",
       "      <td>3820</td>\n",
       "      <td>7385</td>\n",
       "      <td>-142</td>\n",
       "      <td>9604</td>\n",
       "      <td>NaN</td>\n",
       "      <td>NaN</td>\n",
       "    </tr>\n",
       "    <tr>\n",
       "      <th>123221</th>\n",
       "      <td>868937731</td>\n",
       "      <td>868929142</td>\n",
       "      <td>381</td>\n",
       "      <td>11</td>\n",
       "      <td>3820</td>\n",
       "      <td>7384</td>\n",
       "      <td>-149</td>\n",
       "      <td>9608</td>\n",
       "      <td>NaN</td>\n",
       "      <td>NaN</td>\n",
       "    </tr>\n",
       "    <tr>\n",
       "      <th>123222</th>\n",
       "      <td>868937735</td>\n",
       "      <td>868929142</td>\n",
       "      <td>382</td>\n",
       "      <td>59</td>\n",
       "      <td>3840</td>\n",
       "      <td>7384</td>\n",
       "      <td>-156</td>\n",
       "      <td>9611</td>\n",
       "      <td>NaN</td>\n",
       "      <td>NaN</td>\n",
       "    </tr>\n",
       "    <tr>\n",
       "      <th>123223</th>\n",
       "      <td>868937739</td>\n",
       "      <td>868929142</td>\n",
       "      <td>383</td>\n",
       "      <td>27</td>\n",
       "      <td>3840</td>\n",
       "      <td>7383</td>\n",
       "      <td>-164</td>\n",
       "      <td>9615</td>\n",
       "      <td>NaN</td>\n",
       "      <td>NaN</td>\n",
       "    </tr>\n",
       "  </tbody>\n",
       "</table>\n",
       "<p>123224 rows × 10 columns</p>\n",
       "</div>"
      ],
      "text/plain": [
       "               id  ecephys_probe_id  local_index  probe_horizontal_position  \\\n",
       "0       849705558         792645504            1                         11   \n",
       "1       849705560         792645504            2                         59   \n",
       "2       849705562         792645504            3                         27   \n",
       "3       849705564         792645504            4                         43   \n",
       "4       849705566         792645504            5                         11   \n",
       "...           ...               ...          ...                        ...   \n",
       "123219  868937722         868929142          379                         27   \n",
       "123220  868937726         868929142          380                         43   \n",
       "123221  868937731         868929142          381                         11   \n",
       "123222  868937735         868929142          382                         59   \n",
       "123223  868937739         868929142          383                         27   \n",
       "\n",
       "        probe_vertical_position  anterior_posterior_ccf_coordinate  \\\n",
       "0                            20                               8165   \n",
       "1                            40                               8162   \n",
       "2                            40                               8160   \n",
       "3                            60                               8157   \n",
       "4                            60                               8155   \n",
       "...                         ...                                ...   \n",
       "123219                     3800                               7385   \n",
       "123220                     3820                               7385   \n",
       "123221                     3820                               7384   \n",
       "123222                     3840                               7384   \n",
       "123223                     3840                               7383   \n",
       "\n",
       "        dorsal_ventral_ccf_coordinate  left_right_ccf_coordinate  \\\n",
       "0                                3314                       6862   \n",
       "1                                3307                       6866   \n",
       "2                                3301                       6871   \n",
       "3                                3295                       6875   \n",
       "4                                3288                       6879   \n",
       "...                               ...                        ...   \n",
       "123219                           -135                       9601   \n",
       "123220                           -142                       9604   \n",
       "123221                           -149                       9608   \n",
       "123222                           -156                       9611   \n",
       "123223                           -164                       9615   \n",
       "\n",
       "        ecephys_structure_id ecephys_structure_acronym  \n",
       "0                      215.0                       APN  \n",
       "1                      215.0                       APN  \n",
       "2                      215.0                       APN  \n",
       "3                      215.0                       APN  \n",
       "4                      215.0                       APN  \n",
       "...                      ...                       ...  \n",
       "123219                   NaN                       NaN  \n",
       "123220                   NaN                       NaN  \n",
       "123221                   NaN                       NaN  \n",
       "123222                   NaN                       NaN  \n",
       "123223                   NaN                       NaN  \n",
       "\n",
       "[123224 rows x 10 columns]"
      ]
     },
     "execution_count": 18,
     "metadata": {},
     "output_type": "execute_result"
    }
   ],
   "source": [
    "# Neuropixel data from Joshua Siegle, Allen Brain Institute\n",
    "neuropixel_csv = 'channels.csv'\n",
    "neuropixels_df = pd.read_csv(neuropixel_csv, delimiter=',')\n",
    "neuropixels_df"
   ]
  },
  {
   "cell_type": "code",
   "execution_count": 19,
   "metadata": {},
   "outputs": [
    {
     "data": {
      "text/plain": [
       "array([[8165, 3314, 6862],\n",
       "       [8162, 3307, 6866],\n",
       "       [8160, 3301, 6871],\n",
       "       ...,\n",
       "       [7384, -149, 9608],\n",
       "       [7384, -156, 9611],\n",
       "       [7383, -164, 9615]])"
      ]
     },
     "execution_count": 19,
     "metadata": {},
     "output_type": "execute_result"
    }
   ],
   "source": [
    "all_neuropixels = np.vstack((neuropixels_df.anterior_posterior_ccf_coordinate.values,\n",
    "                             neuropixels_df.dorsal_ventral_ccf_coordinate.values,\n",
    "                             neuropixels_df.left_right_ccf_coordinate.values)).transpose()\n",
    "all_neuropixels"
   ]
  },
  {
   "cell_type": "code",
   "execution_count": 20,
   "metadata": {},
   "outputs": [
    {
     "data": {
      "application/vnd.jupyter.widget-view+json": {
       "model_id": "c79a19c7d5ba426081b00bcc6e306a74",
       "version_major": 2,
       "version_minor": 0
      },
      "text/plain": [
       "CCFWidget(children=(VBox(children=(Viewer(background=(0.0, 0.0, 0.0), camera=array([[ 1.3441567e+03, -2.172384…"
      ]
     },
     "metadata": {},
     "output_type": "display_data"
    }
   ],
   "source": [
    "ccf = CCFWidget(markers=[all_neuropixels])\n",
    "ccf"
   ]
  },
  {
   "cell_type": "code",
   "execution_count": 21,
   "metadata": {},
   "outputs": [
    {
     "data": {
      "text/plain": [
       "array(['APN', 'LP', 'MB', 'DG', 'CA1', 'VISrl', nan, 'TH', 'LGd', 'CA3',\n",
       "       'VIS', 'CA2', 'ProS', 'VISp', 'POL', 'VISpm', 'PPT', 'OP', 'NOT',\n",
       "       'HPF', 'SUB', 'VISam', 'ZI', 'LGv', 'VISal', 'VISl', 'SGN', 'SCig',\n",
       "       'MGm', 'MGv', 'VPM', 'grey', 'Eth', 'VPL', 'IGL', 'PP', 'PIL',\n",
       "       'PO', 'VISmma', 'POST', 'SCop', 'SCsg', 'SCzo', 'SCiw', 'IntG',\n",
       "       'MGd', 'MRN', 'LD', 'VISmmp', 'CP', 'VISli', 'PRE', 'RPF', 'LT',\n",
       "       'PF', 'PoT', 'VL', 'RT'], dtype=object)"
      ]
     },
     "execution_count": 21,
     "metadata": {},
     "output_type": "execute_result"
    }
   ],
   "source": [
    "neuropixels_df.ecephys_structure_acronym.unique()"
   ]
  },
  {
   "cell_type": "code",
   "execution_count": 22,
   "metadata": {},
   "outputs": [
    {
     "name": "stdout",
     "output_type": "stream",
     "text": [
      "size: [3, 2, 6, 7, 3]\n",
      "opacities: [1.0, 1.0, 0.8, 0.4, 1.0]\n"
     ]
    }
   ],
   "source": [
    "target_structures = ['APN', 'LP', 'MB', 'DG', 'CA1']\n",
    "target_neuropixels = []\n",
    "for structure in target_structures:\n",
    "    target_df = neuropixels_df.loc[neuropixels_df.ecephys_structure_acronym == structure]\n",
    "    target_neuropixels.append(np.vstack((target_df.anterior_posterior_ccf_coordinate.values,\n",
    "                                         target_df.dorsal_ventral_ccf_coordinate.values,\n",
    "                                         target_df.left_right_ccf_coordinate.values)).transpose())\n",
    "\n",
    "ccf.selected_acronyms=target_structures\n",
    "ccf.markers = target_neuropixels\n",
    "ccf.marker_sizes = [3, 2, 6, 7, 3]\n",
    "ccf.marker_opacities = [1.0, 1.0, 0.8, 0.4, 1.0]\n",
    "\n",
    "# Restore an interactively selected camera position\n",
    "ccf.itk_viewer.camera = np.array([[-8.3128818e+03, -3.0767168e+03,  1.4899438e+04],\n",
    "       [ 6.3586885e+03,  3.9837837e+03,  6.1785781e+03],\n",
    "       [ 1.7834088e-01, -8.8969785e-01, -4.2027637e-01]], dtype=np.float32)"
   ]
  },
  {
   "cell_type": "code",
   "execution_count": null,
   "metadata": {},
   "outputs": [],
   "source": [
    "# To obtain the camera position\n",
    "ccf.itk_viewer.camera"
   ]
  },
  {
   "cell_type": "code",
   "execution_count": null,
   "metadata": {},
   "outputs": [],
   "source": []
  }
 ],
 "metadata": {
  "kernelspec": {
   "display_name": "Python 3",
   "language": "python",
   "name": "python3"
  },
  "language_info": {
   "codemirror_mode": {
    "name": "ipython",
    "version": 3
   },
   "file_extension": ".py",
   "mimetype": "text/x-python",
   "name": "python",
   "nbconvert_exporter": "python",
   "pygments_lexer": "ipython3",
   "version": "3.7.6"
  },
  "toc": {
   "base_numbering": 1,
   "nav_menu": {},
   "number_sections": false,
   "sideBar": false,
   "skip_h1_title": false,
   "title_cell": "Table of Contents",
   "title_sidebar": "Contents",
   "toc_cell": false,
   "toc_position": {},
   "toc_section_display": false,
   "toc_window_display": false
  }
 },
 "nbformat": 4,
 "nbformat_minor": 4
}
